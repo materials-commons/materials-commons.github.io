{
 "cells": [
  {
   "cell_type": "markdown",
   "id": "4355e762",
   "metadata": {},
   "source": [
    "### Create a new Materials Commons project\n",
    "\n",
    "This example demonstrates creating a new Materials Commons project from a Jupyter notebook. To try running it locally, download the notebook from [here](https://materials-commons.github.io/materials-commons-cli/html/examples/MaterialsCommons-Project-Example.ipynb).\n",
    "\n",
    "To install the necessary dependencies (requires Python 3):\n",
    "\n",
    "    pip install materials-commons-cli\n",
    "\n",
    "Notes:\n",
    "- If you do not yet have a Materials Commons account, it can be created [here](https://materialscommons.org/register).\n",
    "- If you have not yet configured the Materials Commons client to access your account, you will be prompted to enter a password.\n",
    "- Only one project per owner may have the same name. If the same name as an existing project is given, then the existing project is returned instead of creating a new project.\n",
    "\n"
   ]
  },
  {
   "cell_type": "code",
   "execution_count": null,
   "id": "e80b34ed",
   "metadata": {},
   "outputs": [],
   "source": [
    "# Login information (Edit here or be prompted by the next cell)\n",
    "\n",
    "email = None\n",
    "mcurl = \"https://materialscommons.org/api\""
   ]
  },
  {
   "cell_type": "code",
   "execution_count": null,
   "id": "ddca282f",
   "metadata": {},
   "outputs": [],
   "source": [
    "# Construct a Materials Commons client\n",
    "\n",
    "from materials_commons.cli.user_config import make_client_and_login_if_necessary\n",
    "\n",
    "if email is None:\n",
    "    print(\"Account (email):\")\n",
    "    email = input()\n",
    "\n",
    "client = make_client_and_login_if_necessary(email=email, mcurl=mcurl)"
   ]
  },
  {
   "cell_type": "code",
   "execution_count": null,
   "id": "65c48327",
   "metadata": {},
   "outputs": [],
   "source": [
    "import materials_commons.api as mcapi\n",
    "\n",
    "# Project name\n",
    "name = \"ExampleProjectFromJupyter\"\n",
    "\n",
    "# Projct summary - short description to show in tables\n",
    "summary = \"Example project created via Jupyter notebook\"\n",
    "\n",
    "# Project description - describes the project, may be more detailed\n",
    "description = \"This project was created as an example of how to create \"\\\n",
    "\"and use Materials Commons projects from within a Jupyter notebook\"\n",
    "\n",
    "# Create a new project (or return existing one with same name)\n",
    "request = mcapi.CreateProjectRequest(description=description, summary=summary)\n",
    "remote_mc_proj = client.create_project(name, request)\n",
    "\n",
    "print(str(remote_mc_proj))\n",
    "print(\"URL:\", client.base_url)\n",
    "print(\"Project ID:\", remote_mc_proj.id)\n",
    "print(\"Project name:\", remote_mc_proj.name)"
   ]
  },
  {
   "cell_type": "markdown",
   "id": "b54ad872",
   "metadata": {},
   "source": [
    "## Cloning a project\n",
    "\n",
    "\"Cloning\" a project creates a local directory which is used as a place to upload and download project files. There are three construction options:\n",
    "\n",
    "1. Clone the project in a temporary directory (default)\n",
    "2. Clone the project in a particular location or open the project if it already exists. This option makes use of the \"parent_path\" and \"name\" constructor arguments to specify where the local project directory will be constructed if it doesn't already exist.\n",
    "3. Open an existing local cloned project. This option uses the \"path\" constructor argument to It can be at a particular location that a user chooses to reuse (by constructing with the "
   ]
  },
  {
   "cell_type": "code",
   "execution_count": null,
   "id": "a672c48f",
   "metadata": {},
   "outputs": [],
   "source": [
    "import os\n",
    "import pathlib\n",
    "import shutil\n",
    "from materials_commons.cli.cloned_project import ClonedProject"
   ]
  },
  {
   "cell_type": "markdown",
   "id": "9afe1bb2",
   "metadata": {},
   "source": [
    "### Example 1: Clone the project - using a temporary directory\n",
    "\n",
    "This example clones the project using a temporary directory. Downloaded files will be eventually be cleaned up by the system when the `ClonedObject` instance is no longer in use."
   ]
  },
  {
   "cell_type": "code",
   "execution_count": null,
   "id": "ae1de20c",
   "metadata": {},
   "outputs": [],
   "source": [
    "cloned_mc_proj = ClonedProject(email=email, mcurl=mcurl, proj_id=remote_mc_proj.id)\n",
    "\n",
    "print(str(cloned_mc_proj))\n",
    "print(\"Cloned project local path:\", cloned_mc_proj.local_path)"
   ]
  },
  {
   "cell_type": "markdown",
   "id": "f56fe62d",
   "metadata": {},
   "source": [
    "### Example 2: Clone the project - specifying the location\n",
    "\n",
    "This example clones the project to `~/mc_projects/ExampleProjectFromJupyter`.\n"
   ]
  },
  {
   "cell_type": "code",
   "execution_count": null,
   "id": "ab755763",
   "metadata": {},
   "outputs": [],
   "source": [
    "parent_path = pathlib.Path.home() / \"mc_projects\"\n",
    "os.makedirs(parent_path, exist_ok=True)\n",
    "\n",
    "cloned_mc_proj = ClonedProject(email=email,\n",
    "                               mcurl=mcurl,\n",
    "                               proj_id=remote_mc_proj.id,\n",
    "                               parent_path=parent_path, # must exist\n",
    "                               name=None) # default uses project name\n",
    "\n",
    "print(str(cloned_mc_proj))\n",
    "print(\"Cloned project local path:\", cloned_mc_proj.local_path)"
   ]
  },
  {
   "cell_type": "markdown",
   "id": "bd3f429d",
   "metadata": {},
   "source": [
    "### Example 3: Open an existing cloned project\n",
    "\n",
    "This example opens a local project that has already been cloned."
   ]
  },
  {
   "cell_type": "code",
   "execution_count": null,
   "id": "ea264fb8",
   "metadata": {},
   "outputs": [],
   "source": [
    "cloned_mc_proj = ClonedProject(email=email,\n",
    "                               mcurl=mcurl,\n",
    "                               proj_id=remote_mc_proj.id,\n",
    "                               path=pathlib.Path.home() / \"mc_projects\" / \"ExampleProjectFromJupyter\")\n",
    "\n",
    "print(str(cloned_mc_proj))\n",
    "print(\"Cloned project local path:\", cloned_mc_proj.local_path)"
   ]
  },
  {
   "cell_type": "markdown",
   "id": "4d9fc9cb",
   "metadata": {},
   "source": [
    "### Using the ClonedProject\n",
    "\n",
    "The `ClonedProject` instance provides access to `Client` and `Project` objects from the Materials Commons API (`materials_commons.api`) along with the location of the cloned local project directory `local_path`."
   ]
  },
  {
   "cell_type": "code",
   "execution_count": null,
   "id": "a03b5b7d",
   "metadata": {},
   "outputs": [],
   "source": [
    "print(str(cloned_mc_proj.proj))\n",
    "print(str(cloned_mc_proj.proj.remote))\n",
    "print(type(cloned_mc_proj.local_path), str(cloned_mc_proj.local_path))"
   ]
  },
  {
   "cell_type": "markdown",
   "id": "12c5a891",
   "metadata": {},
   "source": [
    "### File transfer\n",
    "\n",
    "The `ClonedProject` instance from the CLI also provides methods for uploading and downloading files using features beyond those included in `materials_commons.api`. \n",
    "\n",
    "For example, transfers can include checks to skip transferring files that are equivalent, support recursive upload and download, globus transfer, etc. \n",
    "\n",
    "Other methods implemented by the CLI will be added to `ClonedProject` in the future.\n"
   ]
  },
  {
   "cell_type": "markdown",
   "id": "aa05b079",
   "metadata": {},
   "source": [
    "### Setup for upload examples:\n",
    "\n",
    "This creates a directory and writes some files used in the upload examples."
   ]
  },
  {
   "cell_type": "code",
   "execution_count": null,
   "id": "45589dcc",
   "metadata": {},
   "outputs": [],
   "source": [
    "example_file1 = cloned_mc_proj.local_path / \"example_file1.txt\"\n",
    "with open(example_file1, 'w') as f:\n",
    "    f.write(\"Hello World!\\n\")\n",
    "\n",
    "example_file2 = cloned_mc_proj.local_path / \"example_file2.txt\"\n",
    "with open(example_file2, 'w') as f:\n",
    "    f.write(\"Hello World, again!\\n\")\n",
    "\n",
    "example_dir = cloned_mc_proj.local_path / \"dir\"\n",
    "os.makedirs(example_dir, exist_ok=True)\n",
    "\n",
    "example_file3 = example_dir / \"example_file3.txt\"\n",
    "with open(example_file3, 'w') as f:\n",
    "    f.write(\"Got some data here!\\n\")\n",
    "\n",
    "example_file4 = example_dir / \"example_file4.txt\"\n",
    "with open(example_file4, 'w') as f:\n",
    "    f.write(\"So much data!\\n\")"
   ]
  },
  {
   "cell_type": "markdown",
   "id": "2adf011b",
   "metadata": {},
   "source": [
    "### Upload one file"
   ]
  },
  {
   "cell_type": "code",
   "execution_count": null,
   "id": "144207d5",
   "metadata": {},
   "outputs": [],
   "source": [
    "cloned_mc_proj.upload(example_file1)"
   ]
  },
  {
   "cell_type": "markdown",
   "id": "e00e4d02",
   "metadata": {},
   "source": [
    "### By default, files that already exist will be skipped\n",
    "\n",
    "- Use `no_compare=True` to transfer without comparing checksums. Materials Commons will still check for file equivalence and only create a new file version if the file is different. "
   ]
  },
  {
   "cell_type": "code",
   "execution_count": null,
   "id": "42c10f63",
   "metadata": {},
   "outputs": [],
   "source": [
    "cloned_mc_proj.upload(example_file1)\n",
    "cloned_mc_proj.upload(example_file1, no_compare=True)"
   ]
  },
  {
   "cell_type": "markdown",
   "id": "3a02a8ec",
   "metadata": {},
   "source": [
    "### Upload multiple files"
   ]
  },
  {
   "cell_type": "code",
   "execution_count": null,
   "id": "594fc690",
   "metadata": {},
   "outputs": [],
   "source": [
    "cloned_mc_proj.upload(example_file1, example_file2)"
   ]
  },
  {
   "cell_type": "markdown",
   "id": "44ebf47c",
   "metadata": {},
   "source": [
    "### Upload files and directories, recursively\n",
    "\n",
    "- Use the `recursive=True` argument to transfer files and directories recursively"
   ]
  },
  {
   "cell_type": "code",
   "execution_count": null,
   "id": "a8df5d87",
   "metadata": {},
   "outputs": [],
   "source": [
    "cloned_mc_proj.upload(example_dir, recursive=True)"
   ]
  },
  {
   "cell_type": "markdown",
   "id": "85a3b15b",
   "metadata": {},
   "source": [
    "### Uploading the notebook itself / use of \"upload_as\"\n",
    "\n",
    "It is possible to upload a notebook, from within the notebook itself. To do so, we can use the \"upload_as\" option which allows uploading files that do not exist in the local cloned project directory. The following cells demonstrate getting the notebook's name, `nb_name`, and then uploading the notebook itself to the Materials Commons project. It is placed in a \"notebooks\" directory. Note that it uploads the last saved version of the notebook, not the current state.\n",
    "\n",
    "<i> Note: Getting the notebook file path from `os.path.join(os.getcwd(), nb_name)` may not work in all cases </i>"
   ]
  },
  {
   "cell_type": "code",
   "execution_count": null,
   "id": "24732cbe",
   "metadata": {},
   "outputs": [],
   "source": [
    "nb_name = \"MaterialsCommons-Project-Example.ipynb\"\n",
    "notebook_local_abspath = os.path.join(os.getcwd(), nb_name)\n",
    "notebook_upload_as = cloned_mc_proj.local_path / \"notebooks\" / nb_name\n",
    "\n",
    "cloned_mc_proj.upload(notebook_local_abspath, upload_as=notebook_upload_as)"
   ]
  },
  {
   "cell_type": "markdown",
   "id": "3c10933a",
   "metadata": {},
   "source": [
    "### Setup for download examples:\n",
    "\n",
    "This removes the existing local files and directories to demonstrate downloading from Materials Commons."
   ]
  },
  {
   "cell_type": "code",
   "execution_count": null,
   "id": "df6564ce",
   "metadata": {},
   "outputs": [],
   "source": [
    "for file in [example_file1, example_file2]:\n",
    "    if os.path.exists(file):\n",
    "        os.remove(file)\n",
    "\n",
    "if os.path.exists(example_dir):\n",
    "    shutil.rmtree(example_dir)\n",
    "    \n",
    "print(\"Local project directory contents:\", os.listdir(cloned_mc_proj.local_path))"
   ]
  },
  {
   "cell_type": "markdown",
   "id": "a1f2129e",
   "metadata": {},
   "source": [
    "### Download one file"
   ]
  },
  {
   "cell_type": "code",
   "execution_count": null,
   "id": "c9e87f4b",
   "metadata": {},
   "outputs": [],
   "source": [
    "cloned_mc_proj.download(example_file1)"
   ]
  },
  {
   "cell_type": "markdown",
   "id": "e4fadc85",
   "metadata": {},
   "source": [
    "### By default, files that already exist will be skipped\n",
    "\n",
    "- Use `no_compare=True` to transfer without comparing checksums.\n",
    "- Use `force=True` to force overwriting existing files without prompting."
   ]
  },
  {
   "cell_type": "code",
   "execution_count": null,
   "id": "521c6b65",
   "metadata": {},
   "outputs": [],
   "source": [
    "cloned_mc_proj.download(example_file1, no_compare=True)\n",
    "\n",
    "cloned_mc_proj.download(example_file2)\n",
    "shutil.copyfile(example_file2, example_file1)\n",
    "cloned_mc_proj.download(example_file1, force=True)"
   ]
  },
  {
   "cell_type": "markdown",
   "id": "df92e4b1",
   "metadata": {},
   "source": [
    "### Download multiple files"
   ]
  },
  {
   "cell_type": "code",
   "execution_count": null,
   "id": "000ff759",
   "metadata": {},
   "outputs": [],
   "source": [
    "cloned_mc_proj.download(example_file1, example_file2, force=True)"
   ]
  },
  {
   "cell_type": "markdown",
   "id": "1a5e415f",
   "metadata": {},
   "source": [
    "### Download files and directories, recursively\n",
    "\n",
    "- Use the `recursive=True` argument to transfer files and directories recursively"
   ]
  },
  {
   "cell_type": "code",
   "execution_count": null,
   "id": "e2008790",
   "metadata": {},
   "outputs": [],
   "source": [
    "cloned_mc_proj.download(example_dir, recursive=True)"
   ]
  },
  {
   "cell_type": "markdown",
   "id": "6a95738e",
   "metadata": {},
   "source": [
    "### Download with different name\n",
    "\n",
    "- Use the `output` argument to output one file or directory to a different location"
   ]
  },
  {
   "cell_type": "code",
   "execution_count": null,
   "id": "a87f4325",
   "metadata": {},
   "outputs": [],
   "source": [
    "cloned_mc_proj.download(example_file1, output=cloned_mc_proj.local_path / \"example_file3.txt\")"
   ]
  },
  {
   "cell_type": "markdown",
   "id": "6d8cac2a",
   "metadata": {},
   "source": [
    "### Using Globus file transfer \n",
    "\n",
    "- Use the `globus=True` argument to peform the file transfer using the current globus upload or download directory\n",
    "- Use the `label` argument to give the transfer a label for easier tracking\n",
    "- Globus configuration and transfer management is not currently supported via `ClonedProject` but it can be done using shell commands or the Materials Commons website\n",
    "- See the online [documentation](https://materials-commons.github.io/materials-commons-cli/html/manual/up_down_globus.html#globus-installation-and-configuration) for more information on Globus file transfers."
   ]
  },
  {
   "cell_type": "code",
   "execution_count": null,
   "id": "25742e13",
   "metadata": {},
   "outputs": [],
   "source": [
    "cloned_mc_proj.upload(example_file1, globus=True)"
   ]
  },
  {
   "cell_type": "code",
   "execution_count": null,
   "id": "775ff19a",
   "metadata": {},
   "outputs": [],
   "source": [
    "cloned_mc_proj.download(example_file2, globus=True, force=True)"
   ]
  },
  {
   "cell_type": "markdown",
   "id": "b23e6b3d",
   "metadata": {},
   "source": [
    "### Monitor transfer status"
   ]
  },
  {
   "cell_type": "code",
   "execution_count": null,
   "id": "f85f51c3",
   "metadata": {},
   "outputs": [],
   "source": [
    "! cd {cloned_mc_proj.local_path} && mc globus upload && mc globus download\n",
    "! globus task list"
   ]
  },
  {
   "cell_type": "markdown",
   "id": "7cf8af22",
   "metadata": {},
   "source": [
    "### Finish the transfer\n",
    "\n",
    "- Uploads must be \"finished\" to transfer files into the project. Once processing is finished, the upload directory will no longer appear in `mc globus upload` results, and all files should appear in the project directory. The processing time required before files appear in your project will depend on the size of the transfer. \n",
    "- Globus download directories should be \"deleted\" when download tasks are finished. The download directory may be left as long as desired, but it will not reflect any file or directory changes to the project since the time the download directory was created."
   ]
  },
  {
   "cell_type": "code",
   "execution_count": null,
   "id": "494af2e1",
   "metadata": {},
   "outputs": [],
   "source": [
    "from materials_commons.cli.functions import read_project_config\n",
    "\n",
    "project_config = read_project_config(cloned_mc_proj.local_path)"
   ]
  },
  {
   "cell_type": "code",
   "execution_count": null,
   "id": "2d05147c",
   "metadata": {},
   "outputs": [],
   "source": [
    "! cd {cloned_mc_proj.local_path} && mc globus upload --id {project_config.globus_upload_id} --finish --force"
   ]
  },
  {
   "cell_type": "code",
   "execution_count": null,
   "id": "0688fc7c",
   "metadata": {},
   "outputs": [],
   "source": [
    "! cd {cloned_mc_proj.local_path} && mc globus download --id {project_config.globus_download_id} --delete --force"
   ]
  },
  {
   "cell_type": "markdown",
   "id": "0f3a8ca9",
   "metadata": {},
   "source": [
    "### Example cleanup\n",
    "\n",
    "The `delete_project` call will delete a project on Materials Commons.   \n",
    "\n",
    "Notes:\n",
    "- Only the project owner can delete a project\n",
    "- A project that has published datasets may not be deleted\n",
    "- Be careful, there is no undo! Deleting a project deletes all project files and data.\n",
    "- Deleting the remote project does not delete the local project files.\n",
    "- Deleting the local project files does not delete the remote project"
   ]
  },
  {
   "cell_type": "code",
   "execution_count": null,
   "id": "002339f4",
   "metadata": {},
   "outputs": [],
   "source": [
    "# Delete the remote project\n",
    "projs = client.get_all_projects()\n",
    "for proj in projs:\n",
    "    if proj.name == \"ExampleProjectFromJupyter\":\n",
    "        client.delete_project(proj.id)\n",
    "\n",
    "# Delete the local project\n",
    "local_project_path = pathlib.Path.home() / \"mc_projects\" / \"ExampleProjectFromJupyter\"\n",
    "if os.path.exists(local_project_path):\n",
    "    shutil.rmtree(local_project_path)"
   ]
  },
  {
   "cell_type": "code",
   "execution_count": null,
   "id": "42f99c42",
   "metadata": {},
   "outputs": [],
   "source": []
  }
 ],
 "metadata": {
  "kernelspec": {
   "display_name": "Python 3",
   "language": "python",
   "name": "python3"
  },
  "language_info": {
   "codemirror_mode": {
    "name": "ipython",
    "version": 3
   },
   "file_extension": ".py",
   "mimetype": "text/x-python",
   "name": "python",
   "nbconvert_exporter": "python",
   "pygments_lexer": "ipython3",
   "version": "3.9.4"
  }
 },
 "nbformat": 4,
 "nbformat_minor": 5
}
